{
 "cells": [
  {
   "cell_type": "code",
   "execution_count": null,
   "id": "0ee54439",
   "metadata": {},
   "outputs": [],
   "source": [
    "# Import required libraries\n",
    "import pandas as pd\n",
    "import numpy as np\n",
    "import matplotlib.pyplot as plt\n",
    "import time\n",
    "import psutil"
   ]
  },
  {
   "cell_type": "code",
   "execution_count": null,
   "id": "3859b9a8",
   "metadata": {},
   "outputs": [],
   "source": [
    "# Start the runtime measurement\n",
    "start_time = time.time()\n",
    "cpu_before = psutil.cpu_percent(interval=1)\n",
    "\n",
    "\n",
    "# Data Ingestion: load the CSV file into a DataFrame\n",
    "# Update the filename from the placeholder \"data.csv\" to your actual file name (\"train.csv\")\n",
    "df = pd.read_csv('train.csv')\n",
    "print(f\"Original data shape: {df.shape}\")"
   ]
  },
  {
   "cell_type": "code",
   "execution_count": null,
   "id": "d7676241",
   "metadata": {},
   "outputs": [],
   "source": [
    "# Improved Duplicate Detection:\n",
    "# Identify ALL duplicate rows (even if every occurrence is a duplicate)\n",
    "all_duplicates = df[df.duplicated(keep=False)]\n",
    "print(f\"Number of duplicate rows (all occurrences): {all_duplicates.shape[0]}\")\n",
    "# Optionally, you can print the duplicate rows to inspect them:\n",
    "# print(all_duplicates)\n",
    "\n",
    "\n",
    "# Remove duplicate rows (keeping only the first occurrence)\n",
    "df.drop_duplicates(inplace=True)\n",
    "print(f\"Data shape after dropping duplicates: {df.shape}\")"
   ]
  },
  {
   "cell_type": "code",
   "execution_count": null,
   "id": "4e493267",
   "metadata": {},
   "outputs": [],
   "source": [
    "# For the purpose of this challenge we assume two numerical columns exist, e.g., 'sensor_reading' and 'control_value'.\n",
    "# (If your data file has different column names, adjust accordingly.)\n",
    "# Create a new derived column \"combined_value\" by summing the two columns.\n",
    "df['combined_value'] = df['sensor_reading'] + df['control_value']\n",
    "\n",
    "# Define a helper function to compute mean, median, and mode\n",
    "def compute_stats(column):\n",
    "    mean_val = df[column].mean()\n",
    "    median_val = df[column].median()\n",
    "    mode_series = df[column].mode()\n",
    "    mode_val = mode_series.iloc[0] if not mode_series.empty else np.nan\n",
    "    return mean_val, median_val, mode_val"
   ]
  },
  {
   "cell_type": "code",
   "execution_count": null,
   "id": "146b178d",
   "metadata": {},
   "outputs": [],
   "source": [
    "\n",
    "# Calculate statistics for each of the three columns\n",
    "sensor_stats = compute_stats('sensor_reading')\n",
    "control_stats = compute_stats('control_value')\n",
    "combined_stats = compute_stats('combined_value')\n",
    "\n",
    "# Print the computed statistics\n",
    "print(\"Sensor Reading - Mean: {:.2f}, Median: {:.2f}, Mode: {:.2f}\".format(*sensor_stats))\n",
    "print(\"Control Value  - Mean: {:.2f}, Median: {:.2f}, Mode: {:.2f}\".format(*control_stats))\n",
    "print(\"Combined Value - Mean: {:.2f}, Median: {:.2f}, Mode: {:.2f}\".format(*combined_stats))\n",
    "\n",
    "# Visualization: Use a grouped bar chart to compare the statistics\n",
    "categories = ['Mean', 'Median', 'Mode']\n",
    "stats_values = {\n",
    "    'Sensor Reading': [sensor_stats[0], sensor_stats[1], sensor_stats[2]],\n",
    "    'Control Value':  [control_stats[0], control_stats[1], control_stats[2]],\n",
    "    'Combined Value': [combined_stats[0], combined_stats[1], combined_stats[2]]\n",
    "}\n",
    "\n",
    "\n",
    "x = np.arange(len(categories))\n",
    "width = 0.25\n",
    "\n",
    "fig, ax = plt.subplots(figsize=(10, 6))\n",
    "rects1 = ax.bar(x - width, stats_values['Sensor Reading'], width, label='Sensor Reading')\n",
    "rects2 = ax.bar(x, stats_values['Control Value'], width, label='Control Value')\n",
    "rects3 = ax.bar(x + width, stats_values['Combined Value'], width, label='Combined Value')\n",
    "\n",
    "ax.set_ylabel('Value')\n",
    "ax.set_title('Comparison of Mean, Median, and Mode Across Columns')\n",
    "ax.set_xticks(x)\n",
    "ax.set_xticklabels(categories)\n",
    "ax.legend()\n",
    "\n",
    "plt.tight_layout()\n",
    "plt.show()"
   ]
  },
  {
   "cell_type": "code",
   "execution_count": null,
   "id": "00afa202",
   "metadata": {},
   "outputs": [],
   "source": [
    "# End the runtime measurement\n",
    "cpu_after = psutil.cpu_percent(interval=1)\n",
    "end_time = time.time()\n",
    "\n",
    "print(\"CPU usage before processing: {:.2f}%\".format(cpu_before))\n",
    "print(\"CPU usage after processing: {:.2f}%\".format(cpu_after))\n",
    "print(\"Total runtime: {:.2f} seconds\".format(end_time - start_time))"
   ]
  }
 ],
 "metadata": {
  "language_info": {
   "name": "python"
  }
 },
 "nbformat": 4,
 "nbformat_minor": 5
}
